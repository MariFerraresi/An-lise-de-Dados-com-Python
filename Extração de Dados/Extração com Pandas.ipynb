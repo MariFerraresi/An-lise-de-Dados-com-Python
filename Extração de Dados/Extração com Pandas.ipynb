{
 "cells": [
  {
   "cell_type": "code",
   "execution_count": 1,
   "id": "bf97a289",
   "metadata": {},
   "outputs": [],
   "source": [
    "import pandas as pd"
   ]
  },
  {
   "cell_type": "code",
   "execution_count": 2,
   "id": "43526609",
   "metadata": {},
   "outputs": [
    {
     "data": {
      "text/plain": [
       "0    10\n",
       "1     8\n",
       "2     7\n",
       "3     9\n",
       "dtype: int64"
      ]
     },
     "execution_count": 2,
     "metadata": {},
     "output_type": "execute_result"
    }
   ],
   "source": [
    "pd.Series ([10,8,7,9])"
   ]
  },
  {
   "cell_type": "code",
   "execution_count": 3,
   "id": "229df19b",
   "metadata": {},
   "outputs": [],
   "source": [
    "notas = pd.Series ([10,8,7,9])"
   ]
  },
  {
   "cell_type": "markdown",
   "id": "67e67f0d",
   "metadata": {},
   "source": [
    "Calcular média com Pandas"
   ]
  },
  {
   "cell_type": "code",
   "execution_count": 4,
   "id": "84f01af3",
   "metadata": {},
   "outputs": [
    {
     "data": {
      "text/plain": [
       "8.5"
      ]
     },
     "execution_count": 4,
     "metadata": {},
     "output_type": "execute_result"
    }
   ],
   "source": [
    "notas.mean()"
   ]
  },
  {
   "cell_type": "markdown",
   "id": "3a93c98c",
   "metadata": {},
   "source": [
    "Somar as Notas"
   ]
  },
  {
   "cell_type": "code",
   "execution_count": 5,
   "id": "640d6e49",
   "metadata": {},
   "outputs": [
    {
     "data": {
      "text/plain": [
       "34"
      ]
     },
     "execution_count": 5,
     "metadata": {},
     "output_type": "execute_result"
    }
   ],
   "source": [
    "notas.sum()"
   ]
  },
  {
   "cell_type": "markdown",
   "id": "a458fd30",
   "metadata": {},
   "source": [
    "Desvio Padrão"
   ]
  },
  {
   "cell_type": "code",
   "execution_count": 6,
   "id": "00aeeb41",
   "metadata": {},
   "outputs": [
    {
     "data": {
      "text/plain": [
       "1.2909944487358056"
      ]
     },
     "execution_count": 6,
     "metadata": {},
     "output_type": "execute_result"
    }
   ],
   "source": [
    "notas.std()"
   ]
  },
  {
   "cell_type": "code",
   "execution_count": 7,
   "id": "8d7ce912",
   "metadata": {},
   "outputs": [],
   "source": [
    "df = pd.DataFrame({\"Alunos\" :[\"Alfredo\" , \"Abel\" , \"Henrique\", \\\n",
    "                             \"Julia\" , \"Carlos\"], \n",
    "                  \"Faltas\": [1, 8, 4, 0, 2],\n",
    "                  \"Prova\" : [10, 9.8, 4.5, 8.5, 7.8]})"
   ]
  },
  {
   "cell_type": "code",
   "execution_count": 8,
   "id": "e23900c4",
   "metadata": {},
   "outputs": [
    {
     "data": {
      "text/html": [
       "<div>\n",
       "<style scoped>\n",
       "    .dataframe tbody tr th:only-of-type {\n",
       "        vertical-align: middle;\n",
       "    }\n",
       "\n",
       "    .dataframe tbody tr th {\n",
       "        vertical-align: top;\n",
       "    }\n",
       "\n",
       "    .dataframe thead th {\n",
       "        text-align: right;\n",
       "    }\n",
       "</style>\n",
       "<table border=\"1\" class=\"dataframe\">\n",
       "  <thead>\n",
       "    <tr style=\"text-align: right;\">\n",
       "      <th></th>\n",
       "      <th>Alunos</th>\n",
       "      <th>Faltas</th>\n",
       "      <th>Prova</th>\n",
       "    </tr>\n",
       "  </thead>\n",
       "  <tbody>\n",
       "    <tr>\n",
       "      <th>0</th>\n",
       "      <td>Alfredo</td>\n",
       "      <td>1</td>\n",
       "      <td>10.0</td>\n",
       "    </tr>\n",
       "    <tr>\n",
       "      <th>1</th>\n",
       "      <td>Abel</td>\n",
       "      <td>8</td>\n",
       "      <td>9.8</td>\n",
       "    </tr>\n",
       "    <tr>\n",
       "      <th>2</th>\n",
       "      <td>Henrique</td>\n",
       "      <td>4</td>\n",
       "      <td>4.5</td>\n",
       "    </tr>\n",
       "    <tr>\n",
       "      <th>3</th>\n",
       "      <td>Julia</td>\n",
       "      <td>0</td>\n",
       "      <td>8.5</td>\n",
       "    </tr>\n",
       "    <tr>\n",
       "      <th>4</th>\n",
       "      <td>Carlos</td>\n",
       "      <td>2</td>\n",
       "      <td>7.8</td>\n",
       "    </tr>\n",
       "  </tbody>\n",
       "</table>\n",
       "</div>"
      ],
      "text/plain": [
       "     Alunos  Faltas  Prova\n",
       "0   Alfredo       1   10.0\n",
       "1      Abel       8    9.8\n",
       "2  Henrique       4    4.5\n",
       "3     Julia       0    8.5\n",
       "4    Carlos       2    7.8"
      ]
     },
     "execution_count": 8,
     "metadata": {},
     "output_type": "execute_result"
    }
   ],
   "source": [
    "df"
   ]
  },
  {
   "cell_type": "code",
   "execution_count": 9,
   "id": "459906c3",
   "metadata": {},
   "outputs": [
    {
     "data": {
      "text/plain": [
       "Alunos    Alfredo\n",
       "Faltas          1\n",
       "Prova        10.0\n",
       "Name: 0, dtype: object"
      ]
     },
     "execution_count": 9,
     "metadata": {},
     "output_type": "execute_result"
    }
   ],
   "source": [
    "df.iloc[0]"
   ]
  },
  {
   "cell_type": "code",
   "execution_count": 11,
   "id": "8a261362",
   "metadata": {},
   "outputs": [
    {
     "data": {
      "text/plain": [
       "Index(['Alunos', 'Faltas', 'Prova'], dtype='object')"
      ]
     },
     "execution_count": 11,
     "metadata": {},
     "output_type": "execute_result"
    }
   ],
   "source": [
    "df.columns"
   ]
  },
  {
   "cell_type": "code",
   "execution_count": 12,
   "id": "2ee6da73",
   "metadata": {},
   "outputs": [
    {
     "data": {
      "text/plain": [
       "Alunos     object\n",
       "Faltas      int64\n",
       "Prova     float64\n",
       "dtype: object"
      ]
     },
     "execution_count": 12,
     "metadata": {},
     "output_type": "execute_result"
    }
   ],
   "source": [
    "df.dtypes"
   ]
  },
  {
   "cell_type": "code",
   "execution_count": 13,
   "id": "43b3114f",
   "metadata": {},
   "outputs": [
    {
     "data": {
      "text/html": [
       "<div>\n",
       "<style scoped>\n",
       "    .dataframe tbody tr th:only-of-type {\n",
       "        vertical-align: middle;\n",
       "    }\n",
       "\n",
       "    .dataframe tbody tr th {\n",
       "        vertical-align: top;\n",
       "    }\n",
       "\n",
       "    .dataframe thead th {\n",
       "        text-align: right;\n",
       "    }\n",
       "</style>\n",
       "<table border=\"1\" class=\"dataframe\">\n",
       "  <thead>\n",
       "    <tr style=\"text-align: right;\">\n",
       "      <th></th>\n",
       "      <th>Alunos</th>\n",
       "      <th>Faltas</th>\n",
       "      <th>Prova</th>\n",
       "    </tr>\n",
       "  </thead>\n",
       "  <tbody>\n",
       "    <tr>\n",
       "      <th>0</th>\n",
       "      <td>Alfredo</td>\n",
       "      <td>1</td>\n",
       "      <td>10.0</td>\n",
       "    </tr>\n",
       "    <tr>\n",
       "      <th>1</th>\n",
       "      <td>Abel</td>\n",
       "      <td>8</td>\n",
       "      <td>9.8</td>\n",
       "    </tr>\n",
       "    <tr>\n",
       "      <th>2</th>\n",
       "      <td>Henrique</td>\n",
       "      <td>4</td>\n",
       "      <td>4.5</td>\n",
       "    </tr>\n",
       "    <tr>\n",
       "      <th>3</th>\n",
       "      <td>Julia</td>\n",
       "      <td>0</td>\n",
       "      <td>8.5</td>\n",
       "    </tr>\n",
       "    <tr>\n",
       "      <th>4</th>\n",
       "      <td>Carlos</td>\n",
       "      <td>2</td>\n",
       "      <td>7.8</td>\n",
       "    </tr>\n",
       "  </tbody>\n",
       "</table>\n",
       "</div>"
      ],
      "text/plain": [
       "     Alunos  Faltas  Prova\n",
       "0   Alfredo       1   10.0\n",
       "1      Abel       8    9.8\n",
       "2  Henrique       4    4.5\n",
       "3     Julia       0    8.5\n",
       "4    Carlos       2    7.8"
      ]
     },
     "execution_count": 13,
     "metadata": {},
     "output_type": "execute_result"
    }
   ],
   "source": [
    "df"
   ]
  },
  {
   "cell_type": "code",
   "execution_count": 17,
   "id": "b4577ca8",
   "metadata": {},
   "outputs": [
    {
     "data": {
      "text/html": [
       "<div>\n",
       "<style scoped>\n",
       "    .dataframe tbody tr th:only-of-type {\n",
       "        vertical-align: middle;\n",
       "    }\n",
       "\n",
       "    .dataframe tbody tr th {\n",
       "        vertical-align: top;\n",
       "    }\n",
       "\n",
       "    .dataframe thead th {\n",
       "        text-align: right;\n",
       "    }\n",
       "</style>\n",
       "<table border=\"1\" class=\"dataframe\">\n",
       "  <thead>\n",
       "    <tr style=\"text-align: right;\">\n",
       "      <th></th>\n",
       "      <th>Alunos</th>\n",
       "      <th>Faltas</th>\n",
       "      <th>Prova</th>\n",
       "    </tr>\n",
       "  </thead>\n",
       "  <tbody>\n",
       "    <tr>\n",
       "      <th>0</th>\n",
       "      <td>Alfredo</td>\n",
       "      <td>1</td>\n",
       "      <td>10.0</td>\n",
       "    </tr>\n",
       "    <tr>\n",
       "      <th>1</th>\n",
       "      <td>Abel</td>\n",
       "      <td>8</td>\n",
       "      <td>9.8</td>\n",
       "    </tr>\n",
       "    <tr>\n",
       "      <th>3</th>\n",
       "      <td>Julia</td>\n",
       "      <td>0</td>\n",
       "      <td>8.5</td>\n",
       "    </tr>\n",
       "  </tbody>\n",
       "</table>\n",
       "</div>"
      ],
      "text/plain": [
       "    Alunos  Faltas  Prova\n",
       "0  Alfredo       1   10.0\n",
       "1     Abel       8    9.8\n",
       "3    Julia       0    8.5"
      ]
     },
     "execution_count": 17,
     "metadata": {},
     "output_type": "execute_result"
    }
   ],
   "source": [
    "df[df[\"Prova\"] >8]"
   ]
  },
  {
   "cell_type": "markdown",
   "id": "b6d557e8",
   "metadata": {},
   "source": [
    "O separador pode ser diferente dependendo do tipo de arquivo. O CSV por padrão utiliza vírgula, mas se fosse ; ou tabulação (\\t) se faz necessário descrever o separador \"sep\" para que o Python e a Biblioteca Pandas possa entender a forma de exibição / montagem do arquivo lido."
   ]
  },
  {
   "cell_type": "code",
   "execution_count": 18,
   "id": "52b9b0d1",
   "metadata": {},
   "outputs": [],
   "source": [
    "apple = pd.read_csv(\"AAPL.csv\", sep=\",\")"
   ]
  },
  {
   "cell_type": "code",
   "execution_count": 19,
   "id": "cd9af803",
   "metadata": {},
   "outputs": [
    {
     "data": {
      "text/html": [
       "<div>\n",
       "<style scoped>\n",
       "    .dataframe tbody tr th:only-of-type {\n",
       "        vertical-align: middle;\n",
       "    }\n",
       "\n",
       "    .dataframe tbody tr th {\n",
       "        vertical-align: top;\n",
       "    }\n",
       "\n",
       "    .dataframe thead th {\n",
       "        text-align: right;\n",
       "    }\n",
       "</style>\n",
       "<table border=\"1\" class=\"dataframe\">\n",
       "  <thead>\n",
       "    <tr style=\"text-align: right;\">\n",
       "      <th></th>\n",
       "      <th>Date</th>\n",
       "      <th>Open</th>\n",
       "      <th>High</th>\n",
       "      <th>Low</th>\n",
       "      <th>Close</th>\n",
       "      <th>Adj Close</th>\n",
       "      <th>Volume</th>\n",
       "    </tr>\n",
       "  </thead>\n",
       "  <tbody>\n",
       "    <tr>\n",
       "      <th>0</th>\n",
       "      <td>2018-07-18</td>\n",
       "      <td>191.779999</td>\n",
       "      <td>191.800003</td>\n",
       "      <td>189.929993</td>\n",
       "      <td>190.399994</td>\n",
       "      <td>187.545181</td>\n",
       "      <td>16393400</td>\n",
       "    </tr>\n",
       "    <tr>\n",
       "      <th>1</th>\n",
       "      <td>2018-07-19</td>\n",
       "      <td>189.690002</td>\n",
       "      <td>192.550003</td>\n",
       "      <td>189.690002</td>\n",
       "      <td>191.880005</td>\n",
       "      <td>189.003006</td>\n",
       "      <td>20286800</td>\n",
       "    </tr>\n",
       "    <tr>\n",
       "      <th>2</th>\n",
       "      <td>2018-07-20</td>\n",
       "      <td>191.779999</td>\n",
       "      <td>192.429993</td>\n",
       "      <td>190.169998</td>\n",
       "      <td>191.440002</td>\n",
       "      <td>188.569595</td>\n",
       "      <td>20676200</td>\n",
       "    </tr>\n",
       "    <tr>\n",
       "      <th>3</th>\n",
       "      <td>2018-07-23</td>\n",
       "      <td>190.679993</td>\n",
       "      <td>191.960007</td>\n",
       "      <td>189.559998</td>\n",
       "      <td>191.610001</td>\n",
       "      <td>188.737030</td>\n",
       "      <td>15989400</td>\n",
       "    </tr>\n",
       "    <tr>\n",
       "      <th>4</th>\n",
       "      <td>2018-07-24</td>\n",
       "      <td>192.449997</td>\n",
       "      <td>193.660004</td>\n",
       "      <td>192.050003</td>\n",
       "      <td>193.000000</td>\n",
       "      <td>190.106216</td>\n",
       "      <td>18697900</td>\n",
       "    </tr>\n",
       "    <tr>\n",
       "      <th>...</th>\n",
       "      <td>...</td>\n",
       "      <td>...</td>\n",
       "      <td>...</td>\n",
       "      <td>...</td>\n",
       "      <td>...</td>\n",
       "      <td>...</td>\n",
       "      <td>...</td>\n",
       "    </tr>\n",
       "    <tr>\n",
       "      <th>247</th>\n",
       "      <td>2019-07-12</td>\n",
       "      <td>202.449997</td>\n",
       "      <td>204.000000</td>\n",
       "      <td>202.199997</td>\n",
       "      <td>203.300003</td>\n",
       "      <td>203.300003</td>\n",
       "      <td>17595200</td>\n",
       "    </tr>\n",
       "    <tr>\n",
       "      <th>248</th>\n",
       "      <td>2019-07-15</td>\n",
       "      <td>204.089996</td>\n",
       "      <td>205.869995</td>\n",
       "      <td>204.000000</td>\n",
       "      <td>205.210007</td>\n",
       "      <td>205.210007</td>\n",
       "      <td>16947400</td>\n",
       "    </tr>\n",
       "    <tr>\n",
       "      <th>249</th>\n",
       "      <td>2019-07-16</td>\n",
       "      <td>204.589996</td>\n",
       "      <td>206.110001</td>\n",
       "      <td>203.500000</td>\n",
       "      <td>204.500000</td>\n",
       "      <td>204.500000</td>\n",
       "      <td>16866800</td>\n",
       "    </tr>\n",
       "    <tr>\n",
       "      <th>250</th>\n",
       "      <td>2019-07-17</td>\n",
       "      <td>204.050003</td>\n",
       "      <td>205.089996</td>\n",
       "      <td>203.270004</td>\n",
       "      <td>203.350006</td>\n",
       "      <td>203.350006</td>\n",
       "      <td>14088300</td>\n",
       "    </tr>\n",
       "    <tr>\n",
       "      <th>251</th>\n",
       "      <td>2019-07-18</td>\n",
       "      <td>204.000000</td>\n",
       "      <td>205.880005</td>\n",
       "      <td>203.699997</td>\n",
       "      <td>205.660004</td>\n",
       "      <td>205.660004</td>\n",
       "      <td>15724494</td>\n",
       "    </tr>\n",
       "  </tbody>\n",
       "</table>\n",
       "<p>252 rows × 7 columns</p>\n",
       "</div>"
      ],
      "text/plain": [
       "           Date        Open        High         Low       Close   Adj Close  \\\n",
       "0    2018-07-18  191.779999  191.800003  189.929993  190.399994  187.545181   \n",
       "1    2018-07-19  189.690002  192.550003  189.690002  191.880005  189.003006   \n",
       "2    2018-07-20  191.779999  192.429993  190.169998  191.440002  188.569595   \n",
       "3    2018-07-23  190.679993  191.960007  189.559998  191.610001  188.737030   \n",
       "4    2018-07-24  192.449997  193.660004  192.050003  193.000000  190.106216   \n",
       "..          ...         ...         ...         ...         ...         ...   \n",
       "247  2019-07-12  202.449997  204.000000  202.199997  203.300003  203.300003   \n",
       "248  2019-07-15  204.089996  205.869995  204.000000  205.210007  205.210007   \n",
       "249  2019-07-16  204.589996  206.110001  203.500000  204.500000  204.500000   \n",
       "250  2019-07-17  204.050003  205.089996  203.270004  203.350006  203.350006   \n",
       "251  2019-07-18  204.000000  205.880005  203.699997  205.660004  205.660004   \n",
       "\n",
       "       Volume  \n",
       "0    16393400  \n",
       "1    20286800  \n",
       "2    20676200  \n",
       "3    15989400  \n",
       "4    18697900  \n",
       "..        ...  \n",
       "247  17595200  \n",
       "248  16947400  \n",
       "249  16866800  \n",
       "250  14088300  \n",
       "251  15724494  \n",
       "\n",
       "[252 rows x 7 columns]"
      ]
     },
     "execution_count": 19,
     "metadata": {},
     "output_type": "execute_result"
    }
   ],
   "source": [
    "apple"
   ]
  },
  {
   "cell_type": "markdown",
   "id": "f2b14214",
   "metadata": {},
   "source": [
    "head - Exibir os primeiros registros ; tail , exibir os últimos registros"
   ]
  },
  {
   "cell_type": "code",
   "execution_count": 20,
   "id": "e2ab6775",
   "metadata": {},
   "outputs": [
    {
     "data": {
      "text/html": [
       "<div>\n",
       "<style scoped>\n",
       "    .dataframe tbody tr th:only-of-type {\n",
       "        vertical-align: middle;\n",
       "    }\n",
       "\n",
       "    .dataframe tbody tr th {\n",
       "        vertical-align: top;\n",
       "    }\n",
       "\n",
       "    .dataframe thead th {\n",
       "        text-align: right;\n",
       "    }\n",
       "</style>\n",
       "<table border=\"1\" class=\"dataframe\">\n",
       "  <thead>\n",
       "    <tr style=\"text-align: right;\">\n",
       "      <th></th>\n",
       "      <th>Date</th>\n",
       "      <th>Open</th>\n",
       "      <th>High</th>\n",
       "      <th>Low</th>\n",
       "      <th>Close</th>\n",
       "      <th>Adj Close</th>\n",
       "      <th>Volume</th>\n",
       "    </tr>\n",
       "  </thead>\n",
       "  <tbody>\n",
       "    <tr>\n",
       "      <th>0</th>\n",
       "      <td>2018-07-18</td>\n",
       "      <td>191.779999</td>\n",
       "      <td>191.800003</td>\n",
       "      <td>189.929993</td>\n",
       "      <td>190.399994</td>\n",
       "      <td>187.545181</td>\n",
       "      <td>16393400</td>\n",
       "    </tr>\n",
       "    <tr>\n",
       "      <th>1</th>\n",
       "      <td>2018-07-19</td>\n",
       "      <td>189.690002</td>\n",
       "      <td>192.550003</td>\n",
       "      <td>189.690002</td>\n",
       "      <td>191.880005</td>\n",
       "      <td>189.003006</td>\n",
       "      <td>20286800</td>\n",
       "    </tr>\n",
       "    <tr>\n",
       "      <th>2</th>\n",
       "      <td>2018-07-20</td>\n",
       "      <td>191.779999</td>\n",
       "      <td>192.429993</td>\n",
       "      <td>190.169998</td>\n",
       "      <td>191.440002</td>\n",
       "      <td>188.569595</td>\n",
       "      <td>20676200</td>\n",
       "    </tr>\n",
       "    <tr>\n",
       "      <th>3</th>\n",
       "      <td>2018-07-23</td>\n",
       "      <td>190.679993</td>\n",
       "      <td>191.960007</td>\n",
       "      <td>189.559998</td>\n",
       "      <td>191.610001</td>\n",
       "      <td>188.737030</td>\n",
       "      <td>15989400</td>\n",
       "    </tr>\n",
       "    <tr>\n",
       "      <th>4</th>\n",
       "      <td>2018-07-24</td>\n",
       "      <td>192.449997</td>\n",
       "      <td>193.660004</td>\n",
       "      <td>192.050003</td>\n",
       "      <td>193.000000</td>\n",
       "      <td>190.106216</td>\n",
       "      <td>18697900</td>\n",
       "    </tr>\n",
       "    <tr>\n",
       "      <th>5</th>\n",
       "      <td>2018-07-25</td>\n",
       "      <td>193.059998</td>\n",
       "      <td>194.850006</td>\n",
       "      <td>192.429993</td>\n",
       "      <td>194.820007</td>\n",
       "      <td>191.898926</td>\n",
       "      <td>16709900</td>\n",
       "    </tr>\n",
       "    <tr>\n",
       "      <th>6</th>\n",
       "      <td>2018-07-26</td>\n",
       "      <td>194.610001</td>\n",
       "      <td>195.960007</td>\n",
       "      <td>193.610001</td>\n",
       "      <td>194.210007</td>\n",
       "      <td>191.298080</td>\n",
       "      <td>19076000</td>\n",
       "    </tr>\n",
       "    <tr>\n",
       "      <th>7</th>\n",
       "      <td>2018-07-27</td>\n",
       "      <td>194.990005</td>\n",
       "      <td>195.190002</td>\n",
       "      <td>190.100006</td>\n",
       "      <td>190.979996</td>\n",
       "      <td>188.116501</td>\n",
       "      <td>24024000</td>\n",
       "    </tr>\n",
       "    <tr>\n",
       "      <th>8</th>\n",
       "      <td>2018-07-30</td>\n",
       "      <td>191.899994</td>\n",
       "      <td>192.199997</td>\n",
       "      <td>189.070007</td>\n",
       "      <td>189.910004</td>\n",
       "      <td>187.062546</td>\n",
       "      <td>21029500</td>\n",
       "    </tr>\n",
       "    <tr>\n",
       "      <th>9</th>\n",
       "      <td>2018-07-31</td>\n",
       "      <td>190.300003</td>\n",
       "      <td>192.139999</td>\n",
       "      <td>189.339996</td>\n",
       "      <td>190.289993</td>\n",
       "      <td>187.436829</td>\n",
       "      <td>39373000</td>\n",
       "    </tr>\n",
       "  </tbody>\n",
       "</table>\n",
       "</div>"
      ],
      "text/plain": [
       "         Date        Open        High         Low       Close   Adj Close  \\\n",
       "0  2018-07-18  191.779999  191.800003  189.929993  190.399994  187.545181   \n",
       "1  2018-07-19  189.690002  192.550003  189.690002  191.880005  189.003006   \n",
       "2  2018-07-20  191.779999  192.429993  190.169998  191.440002  188.569595   \n",
       "3  2018-07-23  190.679993  191.960007  189.559998  191.610001  188.737030   \n",
       "4  2018-07-24  192.449997  193.660004  192.050003  193.000000  190.106216   \n",
       "5  2018-07-25  193.059998  194.850006  192.429993  194.820007  191.898926   \n",
       "6  2018-07-26  194.610001  195.960007  193.610001  194.210007  191.298080   \n",
       "7  2018-07-27  194.990005  195.190002  190.100006  190.979996  188.116501   \n",
       "8  2018-07-30  191.899994  192.199997  189.070007  189.910004  187.062546   \n",
       "9  2018-07-31  190.300003  192.139999  189.339996  190.289993  187.436829   \n",
       "\n",
       "     Volume  \n",
       "0  16393400  \n",
       "1  20286800  \n",
       "2  20676200  \n",
       "3  15989400  \n",
       "4  18697900  \n",
       "5  16709900  \n",
       "6  19076000  \n",
       "7  24024000  \n",
       "8  21029500  \n",
       "9  39373000  "
      ]
     },
     "execution_count": 20,
     "metadata": {},
     "output_type": "execute_result"
    }
   ],
   "source": [
    "apple.head(10)"
   ]
  },
  {
   "cell_type": "markdown",
   "id": "10b0d1f7",
   "metadata": {},
   "source": [
    "Verificando a média dos últimos sete dias"
   ]
  },
  {
   "cell_type": "code",
   "execution_count": 21,
   "id": "bfcfaecd",
   "metadata": {},
   "outputs": [
    {
     "data": {
      "text/html": [
       "<div>\n",
       "<style scoped>\n",
       "    .dataframe tbody tr th:only-of-type {\n",
       "        vertical-align: middle;\n",
       "    }\n",
       "\n",
       "    .dataframe tbody tr th {\n",
       "        vertical-align: top;\n",
       "    }\n",
       "\n",
       "    .dataframe thead th {\n",
       "        text-align: right;\n",
       "    }\n",
       "</style>\n",
       "<table border=\"1\" class=\"dataframe\">\n",
       "  <thead>\n",
       "    <tr style=\"text-align: right;\">\n",
       "      <th></th>\n",
       "      <th>Date</th>\n",
       "      <th>Open</th>\n",
       "      <th>High</th>\n",
       "      <th>Low</th>\n",
       "      <th>Close</th>\n",
       "      <th>Adj Close</th>\n",
       "      <th>Volume</th>\n",
       "    </tr>\n",
       "  </thead>\n",
       "  <tbody>\n",
       "    <tr>\n",
       "      <th>245</th>\n",
       "      <td>2019-07-10</td>\n",
       "      <td>201.850006</td>\n",
       "      <td>203.729996</td>\n",
       "      <td>201.559998</td>\n",
       "      <td>203.229996</td>\n",
       "      <td>203.229996</td>\n",
       "      <td>17897100</td>\n",
       "    </tr>\n",
       "    <tr>\n",
       "      <th>246</th>\n",
       "      <td>2019-07-11</td>\n",
       "      <td>203.309998</td>\n",
       "      <td>204.389999</td>\n",
       "      <td>201.710007</td>\n",
       "      <td>201.750000</td>\n",
       "      <td>201.750000</td>\n",
       "      <td>20191800</td>\n",
       "    </tr>\n",
       "    <tr>\n",
       "      <th>247</th>\n",
       "      <td>2019-07-12</td>\n",
       "      <td>202.449997</td>\n",
       "      <td>204.000000</td>\n",
       "      <td>202.199997</td>\n",
       "      <td>203.300003</td>\n",
       "      <td>203.300003</td>\n",
       "      <td>17595200</td>\n",
       "    </tr>\n",
       "    <tr>\n",
       "      <th>248</th>\n",
       "      <td>2019-07-15</td>\n",
       "      <td>204.089996</td>\n",
       "      <td>205.869995</td>\n",
       "      <td>204.000000</td>\n",
       "      <td>205.210007</td>\n",
       "      <td>205.210007</td>\n",
       "      <td>16947400</td>\n",
       "    </tr>\n",
       "    <tr>\n",
       "      <th>249</th>\n",
       "      <td>2019-07-16</td>\n",
       "      <td>204.589996</td>\n",
       "      <td>206.110001</td>\n",
       "      <td>203.500000</td>\n",
       "      <td>204.500000</td>\n",
       "      <td>204.500000</td>\n",
       "      <td>16866800</td>\n",
       "    </tr>\n",
       "    <tr>\n",
       "      <th>250</th>\n",
       "      <td>2019-07-17</td>\n",
       "      <td>204.050003</td>\n",
       "      <td>205.089996</td>\n",
       "      <td>203.270004</td>\n",
       "      <td>203.350006</td>\n",
       "      <td>203.350006</td>\n",
       "      <td>14088300</td>\n",
       "    </tr>\n",
       "    <tr>\n",
       "      <th>251</th>\n",
       "      <td>2019-07-18</td>\n",
       "      <td>204.000000</td>\n",
       "      <td>205.880005</td>\n",
       "      <td>203.699997</td>\n",
       "      <td>205.660004</td>\n",
       "      <td>205.660004</td>\n",
       "      <td>15724494</td>\n",
       "    </tr>\n",
       "  </tbody>\n",
       "</table>\n",
       "</div>"
      ],
      "text/plain": [
       "           Date        Open        High         Low       Close   Adj Close  \\\n",
       "245  2019-07-10  201.850006  203.729996  201.559998  203.229996  203.229996   \n",
       "246  2019-07-11  203.309998  204.389999  201.710007  201.750000  201.750000   \n",
       "247  2019-07-12  202.449997  204.000000  202.199997  203.300003  203.300003   \n",
       "248  2019-07-15  204.089996  205.869995  204.000000  205.210007  205.210007   \n",
       "249  2019-07-16  204.589996  206.110001  203.500000  204.500000  204.500000   \n",
       "250  2019-07-17  204.050003  205.089996  203.270004  203.350006  203.350006   \n",
       "251  2019-07-18  204.000000  205.880005  203.699997  205.660004  205.660004   \n",
       "\n",
       "       Volume  \n",
       "245  17897100  \n",
       "246  20191800  \n",
       "247  17595200  \n",
       "248  16947400  \n",
       "249  16866800  \n",
       "250  14088300  \n",
       "251  15724494  "
      ]
     },
     "execution_count": 21,
     "metadata": {},
     "output_type": "execute_result"
    }
   ],
   "source": [
    "apple.tail(7)"
   ]
  },
  {
   "cell_type": "code",
   "execution_count": 22,
   "id": "3c25cb92",
   "metadata": {},
   "outputs": [
    {
     "data": {
      "text/plain": [
       "Adj Close    203.857145\n",
       "dtype: float64"
      ]
     },
     "execution_count": 22,
     "metadata": {},
     "output_type": "execute_result"
    }
   ],
   "source": [
    "apple.tail(7)[[\"Adj Close\"]].mean()"
   ]
  },
  {
   "cell_type": "markdown",
   "id": "e302bfc5",
   "metadata": {},
   "source": [
    "Com o comando acima, pudemos solicitar ao Pandas que determinasse a média do valor da coluna Adj Close dos últimos sete dias. "
   ]
  },
  {
   "cell_type": "code",
   "execution_count": 23,
   "id": "141f56ba",
   "metadata": {},
   "outputs": [
    {
     "data": {
      "text/html": [
       "<div>\n",
       "<style scoped>\n",
       "    .dataframe tbody tr th:only-of-type {\n",
       "        vertical-align: middle;\n",
       "    }\n",
       "\n",
       "    .dataframe tbody tr th {\n",
       "        vertical-align: top;\n",
       "    }\n",
       "\n",
       "    .dataframe thead th {\n",
       "        text-align: right;\n",
       "    }\n",
       "</style>\n",
       "<table border=\"1\" class=\"dataframe\">\n",
       "  <thead>\n",
       "    <tr style=\"text-align: right;\">\n",
       "      <th></th>\n",
       "      <th>Open</th>\n",
       "      <th>High</th>\n",
       "      <th>Low</th>\n",
       "      <th>Close</th>\n",
       "      <th>Adj Close</th>\n",
       "      <th>Volume</th>\n",
       "    </tr>\n",
       "  </thead>\n",
       "  <tbody>\n",
       "    <tr>\n",
       "      <th>count</th>\n",
       "      <td>252.000000</td>\n",
       "      <td>252.000000</td>\n",
       "      <td>252.000000</td>\n",
       "      <td>252.000000</td>\n",
       "      <td>252.000000</td>\n",
       "      <td>2.520000e+02</td>\n",
       "    </tr>\n",
       "    <tr>\n",
       "      <th>mean</th>\n",
       "      <td>192.479325</td>\n",
       "      <td>194.480715</td>\n",
       "      <td>190.559603</td>\n",
       "      <td>192.580437</td>\n",
       "      <td>191.239701</td>\n",
       "      <td>3.250815e+07</td>\n",
       "    </tr>\n",
       "    <tr>\n",
       "      <th>std</th>\n",
       "      <td>21.630732</td>\n",
       "      <td>21.758249</td>\n",
       "      <td>21.569369</td>\n",
       "      <td>21.644905</td>\n",
       "      <td>21.217154</td>\n",
       "      <td>1.387518e+07</td>\n",
       "    </tr>\n",
       "    <tr>\n",
       "      <th>min</th>\n",
       "      <td>143.979996</td>\n",
       "      <td>145.720001</td>\n",
       "      <td>142.000000</td>\n",
       "      <td>142.190002</td>\n",
       "      <td>141.039642</td>\n",
       "      <td>1.136200e+07</td>\n",
       "    </tr>\n",
       "    <tr>\n",
       "      <th>25%</th>\n",
       "      <td>174.872501</td>\n",
       "      <td>175.967499</td>\n",
       "      <td>173.747501</td>\n",
       "      <td>174.832496</td>\n",
       "      <td>174.111996</td>\n",
       "      <td>2.308030e+07</td>\n",
       "    </tr>\n",
       "    <tr>\n",
       "      <th>50%</th>\n",
       "      <td>194.279999</td>\n",
       "      <td>196.165001</td>\n",
       "      <td>192.599998</td>\n",
       "      <td>194.180000</td>\n",
       "      <td>193.582848</td>\n",
       "      <td>2.942395e+07</td>\n",
       "    </tr>\n",
       "    <tr>\n",
       "      <th>75%</th>\n",
       "      <td>209.312500</td>\n",
       "      <td>210.074997</td>\n",
       "      <td>206.832497</td>\n",
       "      <td>208.872498</td>\n",
       "      <td>206.713852</td>\n",
       "      <td>3.876472e+07</td>\n",
       "    </tr>\n",
       "    <tr>\n",
       "      <th>max</th>\n",
       "      <td>230.779999</td>\n",
       "      <td>233.470001</td>\n",
       "      <td>229.779999</td>\n",
       "      <td>232.070007</td>\n",
       "      <td>229.392090</td>\n",
       "      <td>9.624670e+07</td>\n",
       "    </tr>\n",
       "  </tbody>\n",
       "</table>\n",
       "</div>"
      ],
      "text/plain": [
       "             Open        High         Low       Close   Adj Close  \\\n",
       "count  252.000000  252.000000  252.000000  252.000000  252.000000   \n",
       "mean   192.479325  194.480715  190.559603  192.580437  191.239701   \n",
       "std     21.630732   21.758249   21.569369   21.644905   21.217154   \n",
       "min    143.979996  145.720001  142.000000  142.190002  141.039642   \n",
       "25%    174.872501  175.967499  173.747501  174.832496  174.111996   \n",
       "50%    194.279999  196.165001  192.599998  194.180000  193.582848   \n",
       "75%    209.312500  210.074997  206.832497  208.872498  206.713852   \n",
       "max    230.779999  233.470001  229.779999  232.070007  229.392090   \n",
       "\n",
       "             Volume  \n",
       "count  2.520000e+02  \n",
       "mean   3.250815e+07  \n",
       "std    1.387518e+07  \n",
       "min    1.136200e+07  \n",
       "25%    2.308030e+07  \n",
       "50%    2.942395e+07  \n",
       "75%    3.876472e+07  \n",
       "max    9.624670e+07  "
      ]
     },
     "execution_count": 23,
     "metadata": {},
     "output_type": "execute_result"
    }
   ],
   "source": [
    "apple.describe()"
   ]
  },
  {
   "cell_type": "code",
   "execution_count": null,
   "id": "871fe4d5",
   "metadata": {},
   "outputs": [],
   "source": []
  }
 ],
 "metadata": {
  "kernelspec": {
   "display_name": "Python 3 (ipykernel)",
   "language": "python",
   "name": "python3"
  },
  "language_info": {
   "codemirror_mode": {
    "name": "ipython",
    "version": 3
   },
   "file_extension": ".py",
   "mimetype": "text/x-python",
   "name": "python",
   "nbconvert_exporter": "python",
   "pygments_lexer": "ipython3",
   "version": "3.11.4"
  }
 },
 "nbformat": 4,
 "nbformat_minor": 5
}
