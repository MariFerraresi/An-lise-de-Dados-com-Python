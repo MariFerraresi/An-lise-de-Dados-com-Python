{
 "cells": [
  {
   "cell_type": "markdown",
   "id": "0ab89ca2",
   "metadata": {},
   "source": [
    "## Aprendendo a utilizar o Jupyter com Python para Análise de Dados"
   ]
  },
  {
   "cell_type": "code",
   "execution_count": 3,
   "id": "9b5e9e82",
   "metadata": {},
   "outputs": [],
   "source": [
    "inteiros = [1,2,3,4]"
   ]
  },
  {
   "cell_type": "code",
   "execution_count": 4,
   "id": "401aab39",
   "metadata": {},
   "outputs": [
    {
     "data": {
      "text/plain": [
       "1"
      ]
     },
     "execution_count": 4,
     "metadata": {},
     "output_type": "execute_result"
    }
   ],
   "source": [
    "inteiros[0]"
   ]
  },
  {
   "cell_type": "code",
   "execution_count": 5,
   "id": "093e999f",
   "metadata": {},
   "outputs": [
    {
     "data": {
      "text/plain": [
       "3"
      ]
     },
     "execution_count": 5,
     "metadata": {},
     "output_type": "execute_result"
    }
   ],
   "source": [
    "inteiros[2]"
   ]
  },
  {
   "cell_type": "code",
   "execution_count": 6,
   "id": "9c4246c1",
   "metadata": {},
   "outputs": [
    {
     "data": {
      "text/plain": [
       "[2, 3, 4]"
      ]
     },
     "execution_count": 6,
     "metadata": {},
     "output_type": "execute_result"
    }
   ],
   "source": [
    "inteiros[1:4]"
   ]
  },
  {
   "cell_type": "code",
   "execution_count": 9,
   "id": "8ac73ee1",
   "metadata": {},
   "outputs": [
    {
     "data": {
      "text/plain": [
       "[1, 2, 3, 4]"
      ]
     },
     "execution_count": 9,
     "metadata": {},
     "output_type": "execute_result"
    }
   ],
   "source": [
    "inteiros[:4]"
   ]
  },
  {
   "cell_type": "code",
   "execution_count": 10,
   "id": "97f730a5",
   "metadata": {},
   "outputs": [],
   "source": [
    "misturado = [0, \"casa\" , 4.9]"
   ]
  },
  {
   "cell_type": "code",
   "execution_count": 11,
   "id": "9bb1e36c",
   "metadata": {},
   "outputs": [],
   "source": [
    "misturado[0] = \"lapis\""
   ]
  },
  {
   "cell_type": "code",
   "execution_count": 12,
   "id": "7dea8357",
   "metadata": {},
   "outputs": [
    {
     "data": {
      "text/plain": [
       "['lapis', 'casa', 4.9]"
      ]
     },
     "execution_count": 12,
     "metadata": {},
     "output_type": "execute_result"
    }
   ],
   "source": [
    "misturado"
   ]
  },
  {
   "cell_type": "code",
   "execution_count": 13,
   "id": "b84e5dad",
   "metadata": {},
   "outputs": [
    {
     "data": {
      "text/plain": [
       "1"
      ]
     },
     "execution_count": 13,
     "metadata": {},
     "output_type": "execute_result"
    }
   ],
   "source": [
    "min(inteiros)"
   ]
  },
  {
   "cell_type": "code",
   "execution_count": 14,
   "id": "7f652784",
   "metadata": {},
   "outputs": [
    {
     "data": {
      "text/plain": [
       "4"
      ]
     },
     "execution_count": 14,
     "metadata": {},
     "output_type": "execute_result"
    }
   ],
   "source": [
    "max(inteiros)"
   ]
  },
  {
   "cell_type": "code",
   "execution_count": 15,
   "id": "ce366e62",
   "metadata": {},
   "outputs": [],
   "source": [
    "import numpy"
   ]
  },
  {
   "cell_type": "code",
   "execution_count": 16,
   "id": "ebb8480b",
   "metadata": {},
   "outputs": [
    {
     "data": {
      "text/plain": [
       "array([1.        , 1.41421356, 1.73205081, 2.        ])"
      ]
     },
     "execution_count": 16,
     "metadata": {},
     "output_type": "execute_result"
    }
   ],
   "source": [
    "numpy.sqrt(inteiros)"
   ]
  },
  {
   "cell_type": "code",
   "execution_count": 17,
   "id": "09ec6c67",
   "metadata": {},
   "outputs": [],
   "source": [
    "inteiros.append(5)"
   ]
  },
  {
   "cell_type": "code",
   "execution_count": 18,
   "id": "644a3a54",
   "metadata": {},
   "outputs": [
    {
     "data": {
      "text/plain": [
       "[1, 2, 3, 4, 5]"
      ]
     },
     "execution_count": 18,
     "metadata": {},
     "output_type": "execute_result"
    }
   ],
   "source": [
    "inteiros"
   ]
  },
  {
   "cell_type": "markdown",
   "id": "3fe06981",
   "metadata": {},
   "source": [
    "É possível adicionar uma lista dentro da lista , exemplo:"
   ]
  },
  {
   "cell_type": "code",
   "execution_count": 19,
   "id": "208ad0cf",
   "metadata": {},
   "outputs": [],
   "source": [
    "inteiros.append([6,7,8])"
   ]
  },
  {
   "cell_type": "code",
   "execution_count": 20,
   "id": "c7507223",
   "metadata": {},
   "outputs": [
    {
     "data": {
      "text/plain": [
       "[1, 2, 3, 4, 5, [6, 7, 8]]"
      ]
     },
     "execution_count": 20,
     "metadata": {},
     "output_type": "execute_result"
    }
   ],
   "source": [
    "inteiros"
   ]
  },
  {
   "cell_type": "code",
   "execution_count": 21,
   "id": "8a1de38e",
   "metadata": {},
   "outputs": [
    {
     "name": "stdout",
     "output_type": "stream",
     "text": [
      "1\n",
      "2\n",
      "3\n",
      "4\n",
      "5\n",
      "[6, 7, 8]\n"
     ]
    }
   ],
   "source": [
    "for i in inteiros:\n",
    "    print(i)"
   ]
  },
  {
   "cell_type": "code",
   "execution_count": 22,
   "id": "f1905f8c",
   "metadata": {},
   "outputs": [
    {
     "data": {
      "text/plain": [
       "6"
      ]
     },
     "execution_count": 22,
     "metadata": {},
     "output_type": "execute_result"
    }
   ],
   "source": [
    "len(inteiros)"
   ]
  },
  {
   "cell_type": "code",
   "execution_count": 23,
   "id": "957225ee",
   "metadata": {},
   "outputs": [
    {
     "name": "stdout",
     "output_type": "stream",
     "text": [
      "dois maior que um\n"
     ]
    }
   ],
   "source": [
    "if 2 > 1:\n",
    "    print(\"dois maior que um\")"
   ]
  },
  {
   "cell_type": "code",
   "execution_count": null,
   "id": "19ab1dc8",
   "metadata": {},
   "outputs": [],
   "source": []
  }
 ],
 "metadata": {
  "kernelspec": {
   "display_name": "Python 3 (ipykernel)",
   "language": "python",
   "name": "python3"
  },
  "language_info": {
   "codemirror_mode": {
    "name": "ipython",
    "version": 3
   },
   "file_extension": ".py",
   "mimetype": "text/x-python",
   "name": "python",
   "nbconvert_exporter": "python",
   "pygments_lexer": "ipython3",
   "version": "3.11.4"
  }
 },
 "nbformat": 4,
 "nbformat_minor": 5
}
